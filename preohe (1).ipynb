{
  "nbformat": 4,
  "nbformat_minor": 0,
  "metadata": {
    "colab": {
      "provenance": []
    },
    "kernelspec": {
      "name": "python3",
      "display_name": "Python 3"
    },
    "language_info": {
      "name": "python"
    }
  },
  "cells": [
    {
      "cell_type": "code",
      "execution_count": null,
      "metadata": {
        "colab": {
          "base_uri": "https://localhost:8080/"
        },
        "id": "6po1ZswUUWOS",
        "outputId": "a2efc3f2-ddf4-4a69-8f1c-084f276fede3"
      },
      "outputs": [
        {
          "output_type": "stream",
          "name": "stdout",
          "text": [
            "1.0\n",
            "2826.0\n",
            "Data processing complete! Saved as processed_data.csv\n",
            "Final shape: (5310, 141)\n"
          ]
        }
      ],
      "source": [
        "import pandas as pd\n",
        "import numpy as np\n",
        "from sklearn.preprocessing import OneHotEncoder, MinMaxScaler\n",
        "\n",
        "# Load dataset\n",
        "df = pd.read_csv(\"raw.csv\")\n",
        "\n",
        "# Identify columns\n",
        "first_col = df.columns[0]   # First column (keep unchanged)\n",
        "last_col = df.columns[-1]   # Last column (target/output, keep unchanged)\n",
        "\n",
        "sequence_col = \"30mer\"      # Sequence column (One-Hot Encoding)\n",
        "categorical_col = \"Target gene\"  # Gene column (One-Hot Encoding)\n",
        "\n",
        "# 🔹 Extract first & last columns separately\n",
        "df_first = df[[first_col]]\n",
        "df_last = df[[last_col]]\n",
        "\n",
        "# 🔹 One-hot encode the 30mer sequences\n",
        "def one_hot_encode_sequence(seq):\n",
        "    mapping = {'A': [1,0,0,0], 'T': [0,1,0,0], 'G': [0,0,1,0], 'C': [0,0,0,1]}\n",
        "    encoded_seq = np.concatenate([mapping[nt] for nt in seq])  # Flatten to 120-dim vector\n",
        "    return encoded_seq\n",
        "\n",
        "sequence_ohe = np.array(df[sequence_col].apply(one_hot_encode_sequence).tolist())  # Shape: (num_samples, 120)\n",
        "\n",
        "# Generate column names for 30mer encoding\n",
        "sequence_column_names = [f\"30mer_{i}\" for i in range(sequence_ohe.shape[1])]\n",
        "\n",
        "# 🔹 One-hot encode the Target_Gene column\n",
        "gene_encoder = OneHotEncoder(sparse_output=False)\n",
        "gene_ohe = gene_encoder.fit_transform(df[[categorical_col]])\n",
        "\n",
        "# Generate column names for one-hot encoded genes\n",
        "gene_column_names = gene_encoder.get_feature_names_out([categorical_col]).tolist()\n",
        "\n",
        "# 🔹 Normalize numerical attributes (excluding first & last column)\n",
        "num_cols = df.columns.difference([first_col, last_col, sequence_col, categorical_col])\n",
        "scaler = MinMaxScaler()\n",
        "num_normalized = scaler.fit_transform(df[num_cols])\n",
        "\n",
        "# Assign meaningful names to numerical attributes\n",
        "num_column_names = [\"Peptide_Percentage\", \"Amino_Acid_Cut_Position\", \"Prediction\"][:num_normalized.shape[1]]\n",
        "\n",
        "print(df[\"Amino Acid Cut position\"].min())\n",
        "print(df[\"Amino Acid Cut position\"].max())\n",
        "\n",
        "# 🔹 Concatenate all processed features\n",
        "X_final = np.hstack((df_first.values, sequence_ohe, gene_ohe, num_normalized, df_last.values))\n",
        "\n",
        "# Create final DataFrame with proper column names\n",
        "final_column_names = [first_col] + sequence_column_names + gene_column_names + num_column_names + [last_col]\n",
        "processed_df = pd.DataFrame(X_final, columns=final_column_names)\n",
        "\n",
        "# Save processed dataset\n",
        "processed_df.to_csv(\"processed_data.csv\", index=False)\n",
        "\n",
        "print(\"Data processing complete! Saved as processed_data.csv\")\n",
        "print(\"Final shape:\", processed_df.shape)\n"
      ]
    }
  ]
}